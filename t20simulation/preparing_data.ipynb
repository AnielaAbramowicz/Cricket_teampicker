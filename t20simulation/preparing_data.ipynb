{
 "cells": [
  {
   "cell_type": "markdown",
   "metadata": {},
   "source": [
    "This file was used to create batter_runs.csv from ball_by_ball_ipl.csv"
   ]
  },
  {
   "cell_type": "code",
   "execution_count": 2,
   "metadata": {},
   "outputs": [],
   "source": [
    "import pandas as pd\n",
    "\n",
    "data = pd.read_csv('ball_by_ball_ipl.csv')"
   ]
  },
  {
   "cell_type": "code",
   "execution_count": 3,
   "metadata": {},
   "outputs": [],
   "source": [
    "# Add column to data which keeps track of how many wickets have occurred in the innings so far\n",
    "data['wickets'] = data.groupby(['Match ID', 'Innings'])['Wicket'].cumsum()"
   ]
  },
  {
   "cell_type": "code",
   "execution_count": 4,
   "metadata": {},
   "outputs": [
    {
     "data": {
      "text/html": [
       "<div>\n",
       "<style scoped>\n",
       "    .dataframe tbody tr th:only-of-type {\n",
       "        vertical-align: middle;\n",
       "    }\n",
       "\n",
       "    .dataframe tbody tr th {\n",
       "        vertical-align: top;\n",
       "    }\n",
       "\n",
       "    .dataframe thead th {\n",
       "        text-align: right;\n",
       "    }\n",
       "</style>\n",
       "<table border=\"1\" class=\"dataframe\">\n",
       "  <thead>\n",
       "    <tr style=\"text-align: right;\">\n",
       "      <th></th>\n",
       "      <th>Match ID</th>\n",
       "      <th>Date</th>\n",
       "      <th>Innings</th>\n",
       "      <th>Over</th>\n",
       "      <th>wickets</th>\n",
       "      <th>Batter</th>\n",
       "      <th>Extra Runs</th>\n",
       "      <th>Wicket</th>\n",
       "      <th>0</th>\n",
       "      <th>1</th>\n",
       "      <th>2</th>\n",
       "      <th>3</th>\n",
       "      <th>4</th>\n",
       "      <th>5</th>\n",
       "      <th>6</th>\n",
       "    </tr>\n",
       "  </thead>\n",
       "  <tbody>\n",
       "    <tr>\n",
       "      <th>88843</th>\n",
       "      <td>1359507</td>\n",
       "      <td>2023-04-23</td>\n",
       "      <td>1</td>\n",
       "      <td>1</td>\n",
       "      <td>0</td>\n",
       "      <td>DP Conway</td>\n",
       "      <td>0</td>\n",
       "      <td>0</td>\n",
       "      <td>1</td>\n",
       "      <td>0</td>\n",
       "      <td>0</td>\n",
       "      <td>0</td>\n",
       "      <td>0</td>\n",
       "      <td>0</td>\n",
       "      <td>0</td>\n",
       "    </tr>\n",
       "    <tr>\n",
       "      <th>88844</th>\n",
       "      <td>1359507</td>\n",
       "      <td>2023-04-23</td>\n",
       "      <td>1</td>\n",
       "      <td>1</td>\n",
       "      <td>0</td>\n",
       "      <td>RD Gaikwad</td>\n",
       "      <td>0</td>\n",
       "      <td>0</td>\n",
       "      <td>3</td>\n",
       "      <td>1</td>\n",
       "      <td>0</td>\n",
       "      <td>0</td>\n",
       "      <td>1</td>\n",
       "      <td>0</td>\n",
       "      <td>0</td>\n",
       "    </tr>\n",
       "    <tr>\n",
       "      <th>88845</th>\n",
       "      <td>1359507</td>\n",
       "      <td>2023-04-23</td>\n",
       "      <td>1</td>\n",
       "      <td>2</td>\n",
       "      <td>0</td>\n",
       "      <td>DP Conway</td>\n",
       "      <td>0</td>\n",
       "      <td>0</td>\n",
       "      <td>2</td>\n",
       "      <td>1</td>\n",
       "      <td>0</td>\n",
       "      <td>0</td>\n",
       "      <td>0</td>\n",
       "      <td>0</td>\n",
       "      <td>1</td>\n",
       "    </tr>\n",
       "    <tr>\n",
       "      <th>88846</th>\n",
       "      <td>1359507</td>\n",
       "      <td>2023-04-23</td>\n",
       "      <td>1</td>\n",
       "      <td>2</td>\n",
       "      <td>0</td>\n",
       "      <td>RD Gaikwad</td>\n",
       "      <td>0</td>\n",
       "      <td>0</td>\n",
       "      <td>0</td>\n",
       "      <td>2</td>\n",
       "      <td>0</td>\n",
       "      <td>0</td>\n",
       "      <td>0</td>\n",
       "      <td>0</td>\n",
       "      <td>0</td>\n",
       "    </tr>\n",
       "    <tr>\n",
       "      <th>88847</th>\n",
       "      <td>1359507</td>\n",
       "      <td>2023-04-23</td>\n",
       "      <td>1</td>\n",
       "      <td>3</td>\n",
       "      <td>0</td>\n",
       "      <td>DP Conway</td>\n",
       "      <td>0</td>\n",
       "      <td>0</td>\n",
       "      <td>2</td>\n",
       "      <td>1</td>\n",
       "      <td>0</td>\n",
       "      <td>0</td>\n",
       "      <td>0</td>\n",
       "      <td>0</td>\n",
       "      <td>0</td>\n",
       "    </tr>\n",
       "  </tbody>\n",
       "</table>\n",
       "</div>"
      ],
      "text/plain": [
       "       Match ID        Date  Innings  Over  wickets      Batter  Extra Runs  \\\n",
       "88843   1359507  2023-04-23        1     1        0   DP Conway           0   \n",
       "88844   1359507  2023-04-23        1     1        0  RD Gaikwad           0   \n",
       "88845   1359507  2023-04-23        1     2        0   DP Conway           0   \n",
       "88846   1359507  2023-04-23        1     2        0  RD Gaikwad           0   \n",
       "88847   1359507  2023-04-23        1     3        0   DP Conway           0   \n",
       "\n",
       "       Wicket  0  1  2  3  4  5  6  \n",
       "88843       0  1  0  0  0  0  0  0  \n",
       "88844       0  3  1  0  0  1  0  0  \n",
       "88845       0  2  1  0  0  0  0  1  \n",
       "88846       0  0  2  0  0  0  0  0  \n",
       "88847       0  2  1  0  0  0  0  0  "
      ]
     },
     "execution_count": 4,
     "metadata": {},
     "output_type": "execute_result"
    }
   ],
   "source": [
    "# Loop through each row in data\n",
    "\n",
    "# Get all the batters\n",
    "batters = data['Batter'].unique()\n",
    "\n",
    "selected_cols = ['Match ID', 'Date', 'Innings', 'Over', 'wickets', 'Batter', 'Batter Runs', 'Extra Runs', 'Wicket']\n",
    "\n",
    "# Filter with selected cols\n",
    "df_selected = data[selected_cols]\n",
    "\n",
    "# Split Batter Runs into 7 columns, one for each run\n",
    "df_selected = pd.concat([df_selected, pd.DataFrame(df_selected['Batter Runs'].apply(lambda x: [1 if i == x else 0 for i in range(7)]).tolist(), columns=[str(i) for i in range(7)])], axis=1)\n",
    "df_selected.drop('Batter Runs', axis=1, inplace=True)\n",
    "df_selected.head()\n",
    "\n",
    "df_selected = df_selected.groupby(['Match ID', 'Date', 'Innings', 'Over', 'wickets', 'Batter'], as_index=False).sum()\n",
    "\n",
    "df_selected[df_selected['Match ID'] == data.iloc[0]['Match ID']].head()"
   ]
  },
  {
   "cell_type": "code",
   "execution_count": 5,
   "metadata": {},
   "outputs": [],
   "source": [
    "# Give batters ids\n",
    "batters = data['Batter'].unique()\n",
    "batter_id = {batter: i+1 for i, batter in enumerate(batters)}\n",
    "df_selected['Batter ID'] = df_selected['Batter'].apply(lambda x: batter_id[x])"
   ]
  },
  {
   "cell_type": "code",
   "execution_count": 7,
   "metadata": {},
   "outputs": [
    {
     "data": {
      "text/plain": [
       "1"
      ]
     },
     "execution_count": 7,
     "metadata": {},
     "output_type": "execute_result"
    }
   ],
   "source": [
    "min(batter_id.values())"
   ]
  },
  {
   "cell_type": "code",
   "execution_count": 16,
   "metadata": {},
   "outputs": [],
   "source": [
    "# Convert col names to lowercase\n",
    "df_selected.columns = [col.lower() for col in df_selected.columns]\n",
    "\n",
    "# Save to csv\n",
    "df_selected.to_csv('batter_runs.csv', index=False)"
   ]
  }
 ],
 "metadata": {
  "kernelspec": {
   "display_name": "dscience",
   "language": "python",
   "name": "python3"
  },
  "language_info": {
   "codemirror_mode": {
    "name": "ipython",
    "version": 3
   },
   "file_extension": ".py",
   "mimetype": "text/x-python",
   "name": "python",
   "nbconvert_exporter": "python",
   "pygments_lexer": "ipython3",
   "version": "3.11.0"
  }
 },
 "nbformat": 4,
 "nbformat_minor": 2
}
