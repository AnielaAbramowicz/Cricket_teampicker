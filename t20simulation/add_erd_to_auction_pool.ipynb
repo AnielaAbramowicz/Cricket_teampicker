{
 "cells": [
  {
   "cell_type": "code",
   "execution_count": 1,
   "metadata": {},
   "outputs": [],
   "source": [
    "import pandas as pd\n",
    "import numpy as np"
   ]
  },
  {
   "cell_type": "code",
   "execution_count": 2,
   "metadata": {},
   "outputs": [],
   "source": [
    "auction = pd.read_csv('C:\\\\Users\\\\natem\\\\University\\\\Project2-2\\\\ipl-teampicker\\\\ipl-teampicker-main\\\\2024_auction_pool.csv')\n",
    "batter_erd = pd.read_csv('C:\\\\Users\\\\natem\\\\University\\\\Project2-2\\\\batting_contributions.csv')\n",
    "bowler_erd = pd.read_csv('C:\\\\Users\\\\natem\\\\University\\\\Project2-2\\\\bowling_contributions.csv')"
   ]
  },
  {
   "cell_type": "code",
   "execution_count": 5,
   "metadata": {},
   "outputs": [],
   "source": [
    "batter_erd.rename(columns={'batter_id':'batting id'}, inplace=True)\n",
    "bowler_erd.rename(columns={'bowler_id':'bowling id'}, inplace=True)"
   ]
  },
  {
   "cell_type": "code",
   "execution_count": 6,
   "metadata": {},
   "outputs": [
    {
     "data": {
      "text/html": [
       "<div>\n",
       "<style scoped>\n",
       "    .dataframe tbody tr th:only-of-type {\n",
       "        vertical-align: middle;\n",
       "    }\n",
       "\n",
       "    .dataframe tbody tr th {\n",
       "        vertical-align: top;\n",
       "    }\n",
       "\n",
       "    .dataframe thead th {\n",
       "        text-align: right;\n",
       "    }\n",
       "</style>\n",
       "<table border=\"1\" class=\"dataframe\">\n",
       "  <thead>\n",
       "    <tr style=\"text-align: right;\">\n",
       "      <th></th>\n",
       "      <th>PLAYER</th>\n",
       "      <th>OverseasIndian</th>\n",
       "      <th>TYPE</th>\n",
       "      <th>Played For Country</th>\n",
       "      <th>Predicted Price</th>\n",
       "      <th>Selling Price</th>\n",
       "      <th>Base Price</th>\n",
       "      <th>Performance</th>\n",
       "      <th>batting id</th>\n",
       "      <th>bowling id</th>\n",
       "      <th>batting_contribution</th>\n",
       "      <th>bowling_contribution</th>\n",
       "    </tr>\n",
       "  </thead>\n",
       "  <tbody>\n",
       "    <tr>\n",
       "      <th>0</th>\n",
       "      <td>Finn Allen</td>\n",
       "      <td>Overseas</td>\n",
       "      <td>Batter</td>\n",
       "      <td>0.0</td>\n",
       "      <td>16480667.0</td>\n",
       "      <td>0.0</td>\n",
       "      <td>7500000.0</td>\n",
       "      <td>0.841418</td>\n",
       "      <td>1890</td>\n",
       "      <td>427</td>\n",
       "      <td>-1.8518</td>\n",
       "      <td>-4.2097</td>\n",
       "    </tr>\n",
       "    <tr>\n",
       "      <th>1</th>\n",
       "      <td>Ashutosh Sharma</td>\n",
       "      <td>Indian</td>\n",
       "      <td>All-Rounder</td>\n",
       "      <td>0.0</td>\n",
       "      <td>7400235.5</td>\n",
       "      <td>2000000.0</td>\n",
       "      <td>0.0</td>\n",
       "      <td>0.822751</td>\n",
       "      <td>3046</td>\n",
       "      <td>-1</td>\n",
       "      <td>-1.1608</td>\n",
       "      <td>-0.0000</td>\n",
       "    </tr>\n",
       "    <tr>\n",
       "      <th>2</th>\n",
       "      <td>Kusal Mendis</td>\n",
       "      <td>Overseas</td>\n",
       "      <td>Wicket-Keeper</td>\n",
       "      <td>0.0</td>\n",
       "      <td>2125319.5</td>\n",
       "      <td>0.0</td>\n",
       "      <td>5000000.0</td>\n",
       "      <td>0.699531</td>\n",
       "      <td>-1</td>\n",
       "      <td>-1</td>\n",
       "      <td>0.0000</td>\n",
       "      <td>-0.0000</td>\n",
       "    </tr>\n",
       "    <tr>\n",
       "      <th>3</th>\n",
       "      <td>Rassie Van Der Dussen</td>\n",
       "      <td>Overseas</td>\n",
       "      <td>Batter</td>\n",
       "      <td>0.0</td>\n",
       "      <td>2135125.5</td>\n",
       "      <td>0.0</td>\n",
       "      <td>20000000.0</td>\n",
       "      <td>0.686391</td>\n",
       "      <td>581</td>\n",
       "      <td>-1</td>\n",
       "      <td>-0.6543</td>\n",
       "      <td>-0.0000</td>\n",
       "    </tr>\n",
       "    <tr>\n",
       "      <th>4</th>\n",
       "      <td>Samuel Hain</td>\n",
       "      <td>Overseas</td>\n",
       "      <td>Batter</td>\n",
       "      <td>0.0</td>\n",
       "      <td>2127266.2</td>\n",
       "      <td>0.0</td>\n",
       "      <td>5000000.0</td>\n",
       "      <td>0.681846</td>\n",
       "      <td>-1</td>\n",
       "      <td>-1</td>\n",
       "      <td>0.0000</td>\n",
       "      <td>-0.0000</td>\n",
       "    </tr>\n",
       "  </tbody>\n",
       "</table>\n",
       "</div>"
      ],
      "text/plain": [
       "                  PLAYER OverseasIndian           TYPE  Played For Country  \\\n",
       "0             Finn Allen       Overseas         Batter                 0.0   \n",
       "1        Ashutosh Sharma         Indian    All-Rounder                 0.0   \n",
       "2           Kusal Mendis       Overseas  Wicket-Keeper                 0.0   \n",
       "3  Rassie Van Der Dussen       Overseas         Batter                 0.0   \n",
       "4            Samuel Hain       Overseas         Batter                 0.0   \n",
       "\n",
       "   Predicted Price  Selling Price  Base Price  Performance  batting id  \\\n",
       "0       16480667.0            0.0   7500000.0     0.841418        1890   \n",
       "1        7400235.5      2000000.0         0.0     0.822751        3046   \n",
       "2        2125319.5            0.0   5000000.0     0.699531          -1   \n",
       "3        2135125.5            0.0  20000000.0     0.686391         581   \n",
       "4        2127266.2            0.0   5000000.0     0.681846          -1   \n",
       "\n",
       "   bowling id  batting_contribution  bowling_contribution  \n",
       "0         427               -1.8518               -4.2097  \n",
       "1          -1               -1.1608               -0.0000  \n",
       "2          -1                0.0000               -0.0000  \n",
       "3          -1               -0.6543               -0.0000  \n",
       "4          -1                0.0000               -0.0000  "
      ]
     },
     "execution_count": 6,
     "metadata": {},
     "output_type": "execute_result"
    }
   ],
   "source": [
    "# Join the batter ERD dataframe to the auction dataframe\n",
    "auction = pd.merge(auction, batter_erd, on='batting id', how='left')\n",
    "auction = pd.merge(auction, bowler_erd, on='bowling id', how='left')\n",
    "auction.head()"
   ]
  },
  {
   "cell_type": "code",
   "execution_count": 7,
   "metadata": {},
   "outputs": [],
   "source": [
    "auction.rename(columns={'batting_contribution':'batting erd', 'bowling_contribution':'bowling erd'}, inplace=True)"
   ]
  },
  {
   "cell_type": "code",
   "execution_count": 8,
   "metadata": {},
   "outputs": [],
   "source": [
    "auction.to_csv('C:\\\\Users\\\\natem\\\\University\\\\Project2-2\\\\ipl-teampicker\\\\ipl-teampicker-main\\\\2024_auction_pool.csv', index=False)"
   ]
  },
  {
   "cell_type": "code",
   "execution_count": 9,
   "metadata": {},
   "outputs": [],
   "source": [
    "# Add ERD to squad csv\n",
    "squads = pd.read_csv('C:\\\\Users\\\\natem\\\\University\\\\Project2-2\\\\ipl-teampicker\\\\t20simulation\\\\IPL_2024_Player_Squads.csv')"
   ]
  },
  {
   "cell_type": "code",
   "execution_count": null,
   "metadata": {},
   "outputs": [],
   "source": [
    "squads = pd.merge(squads, batter_erd, on='batting id', how='left')"
   ]
  }
 ],
 "metadata": {
  "kernelspec": {
   "display_name": "dscience",
   "language": "python",
   "name": "python3"
  },
  "language_info": {
   "codemirror_mode": {
    "name": "ipython",
    "version": 3
   },
   "file_extension": ".py",
   "mimetype": "text/x-python",
   "name": "python",
   "nbconvert_exporter": "python",
   "pygments_lexer": "ipython3",
   "version": "3.11.0"
  }
 },
 "nbformat": 4,
 "nbformat_minor": 2
}
