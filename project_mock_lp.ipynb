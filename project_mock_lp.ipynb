{
 "cells": [
  {
   "cell_type": "markdown",
   "id": "509da29e-fd64-4f29-9388-11fe1afa34b0",
   "metadata": {},
   "source": [
    "# placeholder lp model"
   ]
  },
  {
   "cell_type": "code",
   "execution_count": 59,
   "id": "7d1d9ad5-6c2c-403d-b712-24165e21a5dc",
   "metadata": {},
   "outputs": [],
   "source": [
    "import pandas as pd\n",
    "from pulp import LpMaximize, LpProblem, LpVariable, lpSum, value"
   ]
  },
  {
   "cell_type": "code",
   "execution_count": 75,
   "id": "fcd70efc-dd14-4c44-89c8-298f8c1c4297",
   "metadata": {},
   "outputs": [],
   "source": [
    "#create all paramaters for the model\n",
    "price_cap = 4000\n",
    "number_players = 7\n",
    "min_batsmen = 2\n",
    "min_bowlers = 2\n",
    "max_foreign_players = 1"
   ]
  },
  {
   "cell_type": "code",
   "execution_count": 76,
   "id": "97c57f60-7e2e-4041-adee-a14eb5a92ba8",
   "metadata": {},
   "outputs": [],
   "source": [
    "#read data\n",
    "data = pd.read_csv('/Users/kaspervanderhorst/Downloads/placeholder_data_project - Sheet1.csv')"
   ]
  },
  {
   "cell_type": "code",
   "execution_count": 77,
   "id": "05f8ef56-1b6c-4679-baf3-9f66ab463cbd",
   "metadata": {},
   "outputs": [],
   "source": [
    "#create model\n",
    "model = LpProblem(name=\"Fantasy_Team_Optimization\", sense=LpMaximize)"
   ]
  },
  {
   "cell_type": "code",
   "execution_count": 78,
   "id": "2a82a363-cb3c-4f0c-b810-93257f117390",
   "metadata": {},
   "outputs": [],
   "source": [
    "#create binary variables\n",
    "n = len(data)\n",
    "players = []\n",
    "\n",
    "# Create n binary variables and add them to the list\n",
    "for i in range(n):\n",
    "    var_name = f\"x_{i}\"  # Variable names like x_0, x_1, ..., x_n-1\n",
    "    binary_var = LpVariable(var_name, lowBound=0, upBound=1, cat= \"Binary\")\n",
    "    players.append(binary_var)"
   ]
  },
  {
   "cell_type": "code",
   "execution_count": 79,
   "id": "de99fdbb-0773-432e-9a19-cf95b3a116c7",
   "metadata": {},
   "outputs": [],
   "source": [
    "#create constraints\n",
    "\n",
    "#total player constraint\n",
    "model += lpSum(players) == 8\n",
    "\n",
    "#total price constraint\n",
    "total_price_constraint = lpSum(players * data['player_price']) <= price_cap\n",
    "model += total_price_constraint\n",
    "\n",
    "#position constraints (at least two batsman at least two bowlers)\n",
    "batsmen_vars = [players[i] for i in range(n) if data['player_position'][i] == 'Batsman']\n",
    "bowlers_vars = [players[i] for i in range(n) if data['player_position'][i] == 'Bowler']\n",
    "\n",
    "model += lpSum(batsmen_vars) >= min_batsmen\n",
    "model += lpSum(bowlers_vars) >= min_bowlers\n",
    "\n",
    "#nationality constraints (at most three non indian players)\n",
    "indian_vars = [players[i] for i in range(n) if data['player_nationality'][i] == 'India']\n",
    "foreign_vars = [players[i] for i in range(n) if data['player_nationality'][i] != 'India']\n",
    "\n",
    "model += lpSum(foreign_vars) <= max_foreign_players"
   ]
  },
  {
   "cell_type": "code",
   "execution_count": 80,
   "id": "7dfc88db-215c-41be-868b-d0c35f85bb8b",
   "metadata": {},
   "outputs": [],
   "source": [
    "#objective function\n",
    "total_performance = lpSum(players[i] * data['player_performance'][i] for i in range(len(players)))\n",
    "model += total_performance"
   ]
  },
  {
   "cell_type": "code",
   "execution_count": 81,
   "id": "2f36040b-4211-4dfd-ad75-e0d1563698ad",
   "metadata": {},
   "outputs": [
    {
     "name": "stdout",
     "output_type": "stream",
     "text": [
      "Welcome to the CBC MILP Solver \n",
      "Version: 2.10.3 \n",
      "Build Date: Dec 15 2019 \n",
      "\n",
      "command line - /opt/anaconda3/lib/python3.11/site-packages/pulp/solverdir/cbc/osx/64/cbc /var/folders/54/mc0w4fwx3q5cc5pkl8js26sr0000gn/T/10d4ff4b9ad6441686f0bb76749d9321-pulp.mps -max -timeMode elapsed -branch -printingOptions all -solution /var/folders/54/mc0w4fwx3q5cc5pkl8js26sr0000gn/T/10d4ff4b9ad6441686f0bb76749d9321-pulp.sol (default strategy 1)\n",
      "At line 2 NAME          MODEL\n",
      "At line 3 ROWS\n",
      "At line 10 COLUMNS\n",
      "At line 87 RHS\n",
      "At line 93 BOUNDS\n",
      "At line 106 ENDATA\n",
      "Problem MODEL has 5 rows, 12 columns and 40 elements\n",
      "Coin0008I MODEL read with 0 errors\n",
      "Option for timeMode changed from cpu to elapsed\n",
      "Continuous objective value is 235.016 - 0.00 seconds\n",
      "Cgl0003I 1 fixed, 0 tightened bounds, 2 strengthened rows, 0 substitutions\n",
      "Cgl0003I 0 fixed, 0 tightened bounds, 1 strengthened rows, 0 substitutions\n",
      "Cgl0004I processed model has 5 rows, 10 columns (10 integer (10 of which binary)) and 36 elements\n",
      "Cutoff increment increased from 1e-05 to 0.9999\n",
      "Cbc0038I Initial state - 0 integers unsatisfied sum - 6.66134e-16\n",
      "Cbc0038I Solution found of -235\n",
      "Cbc0038I Before mini branch and bound, 10 integers at bound fixed and 0 continuous\n",
      "Cbc0038I Mini branch and bound did not improve solution (0.01 seconds)\n",
      "Cbc0038I After 0.01 seconds - Feasibility pump exiting with objective of -235 - took 0.00 seconds\n",
      "Cbc0012I Integer solution of -235 found by feasibility pump after 0 iterations and 0 nodes (0.01 seconds)\n",
      "Cbc0001I Search completed - best objective -235, took 0 iterations and 0 nodes (0.01 seconds)\n",
      "Cbc0035I Maximum depth 0, 0 variables fixed on reduced cost\n",
      "Cuts at root node changed objective from -235 to -235\n",
      "Probing was tried 0 times and created 0 cuts of which 0 were active after adding rounds of cuts (0.000 seconds)\n",
      "Gomory was tried 0 times and created 0 cuts of which 0 were active after adding rounds of cuts (0.000 seconds)\n",
      "Knapsack was tried 0 times and created 0 cuts of which 0 were active after adding rounds of cuts (0.000 seconds)\n",
      "Clique was tried 0 times and created 0 cuts of which 0 were active after adding rounds of cuts (0.000 seconds)\n",
      "MixedIntegerRounding2 was tried 0 times and created 0 cuts of which 0 were active after adding rounds of cuts (0.000 seconds)\n",
      "FlowCover was tried 0 times and created 0 cuts of which 0 were active after adding rounds of cuts (0.000 seconds)\n",
      "TwoMirCuts was tried 0 times and created 0 cuts of which 0 were active after adding rounds of cuts (0.000 seconds)\n",
      "ZeroHalf was tried 0 times and created 0 cuts of which 0 were active after adding rounds of cuts (0.000 seconds)\n",
      "\n",
      "Result - Optimal solution found\n",
      "\n",
      "Objective value:                235.00000000\n",
      "Enumerated nodes:               0\n",
      "Total iterations:               0\n",
      "Time (CPU seconds):             0.00\n",
      "Time (Wallclock seconds):       0.01\n",
      "\n",
      "Option for printingOptions changed from normal to all\n",
      "Total time (CPU seconds):       0.00   (Wallclock seconds):       0.01\n",
      "\n"
     ]
    },
    {
     "data": {
      "text/plain": [
       "1"
      ]
     },
     "execution_count": 81,
     "metadata": {},
     "output_type": "execute_result"
    }
   ],
   "source": [
    "# Stap 7: Optimaliseer het model\n",
    "model.solve()"
   ]
  },
  {
   "cell_type": "code",
   "execution_count": 82,
   "id": "d6f9aa93-f148-44c5-8989-bd7686a9fa77",
   "metadata": {},
   "outputs": [
    {
     "name": "stdout",
     "output_type": "stream",
     "text": [
      "8\n",
      "Selected Players and their Data:\n",
      "player_name            kasper\n",
      "player_performance         14\n",
      "player_price              200\n",
      "player_nationality      India\n",
      "player_position       Batsman\n",
      "Name: 0, dtype: object\n",
      "player_name              tijn\n",
      "player_performance          8\n",
      "player_price              509\n",
      "player_nationality      India\n",
      "player_position       Batsman\n",
      "Name: 1, dtype: object\n",
      "player_name              iwan\n",
      "player_performance         34\n",
      "player_price               20\n",
      "player_nationality      India\n",
      "player_position       Batsman\n",
      "Name: 3, dtype: object\n",
      "player_name               bente\n",
      "player_performance           45\n",
      "player_price                235\n",
      "player_nationality    Nederland\n",
      "player_position         Batsman\n",
      "Name: 4, dtype: object\n",
      "player_name             renee\n",
      "player_performance         46\n",
      "player_price               23\n",
      "player_nationality      India\n",
      "player_position       Batsman\n",
      "Name: 6, dtype: object\n",
      "player_name             nate\n",
      "player_performance        45\n",
      "player_price             561\n",
      "player_nationality     India\n",
      "player_position       Bowler\n",
      "Name: 7, dtype: object\n",
      "player_name           aniela\n",
      "player_performance        36\n",
      "player_price            2346\n",
      "player_nationality     India\n",
      "player_position       Bowler\n",
      "Name: 9, dtype: object\n",
      "player_name             gleb\n",
      "player_performance         7\n",
      "player_price              24\n",
      "player_nationality     India\n",
      "player_position       Bowler\n",
      "Name: 10, dtype: object\n"
     ]
    }
   ],
   "source": [
    "# Display selected players and their data\n",
    "selected_players_data = []\n",
    "\n",
    "\n",
    "for i, player in enumerate(data['player_name']):\n",
    "    if players[i].varValue == 1:\n",
    "        selected_players_data.append(data.iloc[i])\n",
    "\n",
    "print(len(selected_players_data))\n",
    "print(\"Selected Players and their Data:\")\n",
    "for player_data in selected_players_data:\n",
    "    print(player_data)"
   ]
  },
  {
   "cell_type": "code",
   "execution_count": null,
   "id": "f70cd4b0-e7b7-4d85-bfc8-27a60b13db09",
   "metadata": {},
   "outputs": [],
   "source": []
  },
  {
   "cell_type": "code",
   "execution_count": null,
   "id": "5814f26f-b690-46da-9115-cb55be359c0a",
   "metadata": {},
   "outputs": [],
   "source": []
  }
 ],
 "metadata": {
  "kernelspec": {
   "display_name": "Python 3 (ipykernel)",
   "language": "python",
   "name": "python3"
  },
  "language_info": {
   "codemirror_mode": {
    "name": "ipython",
    "version": 3
   },
   "file_extension": ".py",
   "mimetype": "text/x-python",
   "name": "python",
   "nbconvert_exporter": "python",
   "pygments_lexer": "ipython3",
   "version": "3.11.8"
  }
 },
 "nbformat": 4,
 "nbformat_minor": 5
}
