{
 "cells": [
  {
   "cell_type": "code",
   "execution_count": 1,
   "id": "initial_id",
   "metadata": {
    "ExecuteTime": {
     "end_time": "2024-05-07T15:37:00.484128200Z",
     "start_time": "2024-05-07T15:37:00.468087100Z"
    },
    "collapsed": false,
    "jupyter": {
     "outputs_hidden": false
    }
   },
   "outputs": [],
   "source": [
    "import csv\n",
    "\n",
    "# Loads the CSV file\n",
    "def load_data(filename):\n",
    "    my_list = []\n",
    "    with open(filename) as player_data:\n",
    "        player_data_store = csv.reader(player_data, delimiter=',')\n",
    "        next(player_data)\n",
    "        for row in player_data_store:\n",
    "                my_list.append(row)\n",
    "        return my_list"
   ]
  },
  {
   "cell_type": "code",
   "execution_count": 2,
   "id": "1b22bcc3f019d169",
   "metadata": {
    "ExecuteTime": {
     "end_time": "2024-05-08T09:11:05.386311800Z",
     "start_time": "2024-05-08T09:11:05.372084600Z"
    },
    "collapsed": false,
    "jupyter": {
     "outputs_hidden": false
    }
   },
   "outputs": [],
   "source": [
    "# Helper methods for Performance Metric 2\n",
    "def calc_bowling_tournament_average():\n",
    "    sum = 0\n",
    "    for i in range(len(player_list)):\n",
    "        sum += player_list[i].bowling_avg\n",
    "        \n",
    "    return sum / len(player_list)\n",
    "    \n",
    "\n",
    "def calc_batting_tournament_average():\n",
    "    sum = 0\n",
    "    for i in range(len(player_list)):\n",
    "        sum += player_list[i].batting_avg\n",
    "        \n",
    "    return sum / len(player_list)\n",
    "    \n",
    "\n",
    "def calc_tournament_economy():\n",
    "    sum = 0\n",
    "    for i in range(len(player_list)):\n",
    "        sum += player_list[i].bowling_sr\n",
    "        \n",
    "    return sum / len(player_list)\n",
    "\n",
    "\n",
    "def calc_tournament_strike_rate():\n",
    "    sum = 0\n",
    "    for i in range(len(player_list)):\n",
    "        sum += player_list[i].batting_sr\n",
    "    \n",
    "    return sum / len(player_list)\n",
    "    "
   ]
  },
  {
   "cell_type": "code",
   "execution_count": 3,
   "id": "f6d79b5f7cb5a71d",
   "metadata": {
    "ExecuteTime": {
     "start_time": "2024-05-07T15:37:05.804429400Z"
    },
    "collapsed": false,
    "jupyter": {
     "outputs_hidden": false
    }
   },
   "outputs": [],
   "source": [
    "def metric1(batting_average, batting_strike_rate, bowling_average, economy_rate):\n",
    "    batting_metric = (batting_average * batting_strike_rate)/100 \n",
    "    bowling_metric = (bowling_average * economy_rate)/100\n",
    "    return batting_metric + bowling_metric\n",
    "\n",
    "def metric2(batting_player_average, player_strike_rate, bowling_player_average, player_economy, runs, wickets):\n",
    "    \n",
    "    batting_tournament_average = calc_batting_tournament_average()\n",
    "    tournament_strike_rate = calc_tournament_strike_rate()\n",
    "    bowling_tournament_average = calc_tournament_strike_rate()\n",
    "    tournament_economy = calc_tournament_economy()\n",
    "    \n",
    "    batting_metric = ((batting_player_average/batting_tournament_average) + (player_strike_rate/tournament_strike_rate)**2) * runs\n",
    "    \n",
    "    bowling_metric = ((bowling_tournament_average/bowling_player_average) + (tournament_economy/player_economy)**2) * wickets\n",
    "    \n",
    "    return batting_metric + bowling_metric\n",
    "\n",
    "def metric3(batting_average, batting_strike_rate, bowling_strike_rate, bowling_average, economy):\n",
    "    alpha = 0.75\n",
    "    batting_metric = batting_average-alpha*(batting_strike_rate**alpha)\n",
    "    bowling_metric = bowling_strike_rate-alpha*(bowling_average**alpha)\n",
    "    return batting_metric + bowling_metric"
   ]
  },
  {
   "cell_type": "code",
   "execution_count": 4,
   "id": "2341ffbc52fce567",
   "metadata": {
    "ExecuteTime": {
     "end_time": "2024-05-08T09:38:14.897421300Z",
     "start_time": "2024-05-08T09:38:14.893105Z"
    },
    "collapsed": false,
    "jupyter": {
     "outputs_hidden": false
    }
   },
   "outputs": [],
   "source": [
    "def calc_pm_for_player(player):\n",
    "    \"\"\"\n",
    "    Calculates all three performance metrics for each player object\n",
    "    Input: Player object\n",
    "    Output: Displays performance metric per player\n",
    "    \"\"\"\n",
    "    \n",
    "    pm1 = metric1(player.batting_avg, player.batting_sr, player.bowling_avg, player.economy)\n",
    "    player.set_pm(pm1, 'pm1')\n",
    "    pm2 = metric2(player.batting_avg, player.batting_sr, player.bowling_avg, player.economy, player.runs, player.wickets)\n",
    "    player.set_pm(pm2, 'pm2')\n",
    "    pm3 = metric3(player.batting_avg, player.batting_sr, player.bowling_sr, player.bowling_avg, player.economy)\n",
    "    player.set_pm(pm3, 'pm3')\n",
    "    print(player.name)\n",
    "    player.display_performance_metrics()\n",
    "    "
   ]
  },
  {
   "cell_type": "code",
   "execution_count": 5,
   "id": "d4a64e21660f9353",
   "metadata": {
    "ExecuteTime": {
     "end_time": "2024-05-08T09:11:12.671860100Z",
     "start_time": "2024-05-08T09:11:12.614516100Z"
    },
    "collapsed": false,
    "jupyter": {
     "outputs_hidden": false
    }
   },
   "outputs": [],
   "source": [
    "# Creates player objects by reading the CSV file\n",
    "\n",
    "import pandas as pd\n",
    "\n",
    "player_data_2018 = pd.read_csv('/Users/kaspervanderhorst/Desktop/performance metric/player_csvs/2018-Player-Stats.csv')\n",
    "player_data_2019 = pd.read_csv('/Users/kaspervanderhorst/Desktop/performance metric/player_csvs/2019-Player-Stats.csv')\n",
    "player_data_2020 = pd.read_csv('/Users/kaspervanderhorst/Desktop/performance metric/player_csvs/2020-Player-Stats.csv')\n",
    "player_data_2021 = pd.read_csv('/Users/kaspervanderhorst/Desktop/performance metric/player_csvs/2021-Player-Stats.csv')\n",
    "player_data_2022 = pd.read_csv('/Users/kaspervanderhorst/Desktop/performance metric/player_csvs/2022-Player-Stats.csv')\n",
    "player_data_2023 = pd.read_csv('/Users/kaspervanderhorst/Desktop/performance metric/player_csvs/2023-Player-Stats.csv')\n",
    "\n",
    "years = 6\n",
    "\n",
    "player_data_list = [player_data_2018, player_data_2019, player_data_2020, player_data_2021, player_data_2022, player_data_2023]\n",
    "#code below very dumb but maps index in the list to year, key is the index value is the year\n",
    "player_data_year_dict = {\n",
    "    0 : 2018,\n",
    "    1 : 2019,\n",
    "    2 : 2020,\n",
    "    3 : 2021,\n",
    "    4 : 2022,\n",
    "    5 : 2023\n",
    "}\n",
    "\n",
    "# ensures that only players with a team are considered\n",
    "for player_data in player_data_list:\n",
    "    player_data_in_teams = player_data[player_data['team'] != 'None']\n",
    "\n"
   ]
  },
  {
   "cell_type": "code",
   "execution_count": 6,
   "id": "65fb9804-24dd-4771-a34a-dbe6aa3db54b",
   "metadata": {
    "ExecuteTime": {
     "end_time": "2024-05-08T09:38:43.000278100Z",
     "start_time": "2024-05-08T09:38:42.975675400Z"
    },
    "collapsed": false,
    "jupyter": {
     "outputs_hidden": false
    }
   },
   "outputs": [],
   "source": [
    "class Player:\n",
    "    \n",
    "    def __init__(self, name, team, runs, wickets, bowled, conceded, batting_avg, batting_sr, bowling_avg, bowling_sr, economy):\n",
    "        self.name = name\n",
    "        self.team = team\n",
    "        self.runs = runs\n",
    "        self.wickets = wickets\n",
    "        self.bowled = bowled\n",
    "        self.conceded = conceded\n",
    "        self.batting_avg = batting_avg\n",
    "        self.batting_sr = batting_sr\n",
    "        self.bowling_avg = bowling_avg\n",
    "        self.bowling_sr = bowling_sr\n",
    "        self.economy = economy\n",
    "        self.pm1 = 0\n",
    "        self.pm2 = 0\n",
    "        self.pm3 = 0\n",
    "        \n",
    "        \n",
    "    def set_pm(self, pm, label):\n",
    "        \"\"\"\n",
    "        Initializes the three performance metrics for each Player object\n",
    "        \"\"\"\n",
    "        if label == 'pm1':\n",
    "            self.pm1 = pm\n",
    "        if label == 'pm2':\n",
    "            self.pm2 = pm\n",
    "        if label == 'pm3':\n",
    "            self.pm3 = pm\n",
    "\n",
    "    def get_team(self):\n",
    "        return self.team\n",
    "            \n",
    "        \n",
    "    def display_performance_metrics(self):\n",
    "        print(self.pm1)\n",
    "        print(self.pm2)\n",
    "        print(self.pm3)\n",
    "        \n",
    "    def get_team_name(self):\n",
    "        return team\n",
    "        "
   ]
  },
  {
   "cell_type": "code",
   "execution_count": 7,
   "id": "ec2ecb78-6f79-4237-8159-45595825e5aa",
   "metadata": {
    "ExecuteTime": {
     "end_time": "2024-05-08T09:38:43.000278100Z",
     "start_time": "2024-05-08T09:38:42.975675400Z"
    },
    "collapsed": false,
    "jupyter": {
     "outputs_hidden": false
    }
   },
   "outputs": [
    {
     "name": "stdout",
     "output_type": "stream",
     "text": [
      "6\n"
     ]
    }
   ],
   "source": [
    "all_player_list = []\n",
    "\n",
    "for i in range(len(player_data_list)):\n",
    "    player_list = []\n",
    "    for index, row in player_data_list[i].iterrows():\n",
    "        # Creates a Player object using the column values from the CSV\n",
    "        player = Player(\n",
    "            name=row['player'], \n",
    "            team=row['team'], \n",
    "            runs=row['runs'], \n",
    "            wickets=row['wickets'], \n",
    "            bowled=row['overs bowled'], \n",
    "            conceded=row['runs conceded'], \n",
    "            batting_avg=row['batting average'], \n",
    "            batting_sr=row['batting SR'], \n",
    "            bowling_avg=row['bowling average'], \n",
    "            bowling_sr=row['bowling SR'], \n",
    "            economy=row['economy'], \n",
    "        )\n",
    "        \n",
    "         # Adds the Player object to the list\n",
    "        player_list.append(player)\n",
    "    all_player_list.append(player_list)\n",
    "\n",
    "#now all_player_list is a matrix where each row represents the player data for 1 year\n",
    "print(len(all_player_list))\n",
    "    "
   ]
  },
  {
   "cell_type": "code",
   "execution_count": 8,
   "id": "99aa4128b8f37adb",
   "metadata": {
    "ExecuteTime": {
     "end_time": "2024-04-30T13:42:16.260839600Z",
     "start_time": "2024-04-30T13:42:16.244602Z"
    },
    "collapsed": false,
    "jupyter": {
     "outputs_hidden": false
    }
   },
   "outputs": [],
   "source": [
    "class Team:\n",
    "\n",
    "    def __init__(self, team_name):\n",
    "        self.team_name = team_name\n",
    "        self.players = []\n",
    "        self.combined_pm1 = 0\n",
    "        self.combined_pm2 = 0\n",
    "        self.combined_pm3 = 0\n",
    "        self.rank_pm1 = 0\n",
    "        self.rank_pm2 = 0\n",
    "        self.rank_pm3 = 0\n",
    "        \n",
    "        \n",
    "    def get_team_name(self):\n",
    "        return self.team_name"
   ]
  },
  {
   "cell_type": "code",
   "execution_count": 9,
   "id": "b55a6dab-4d63-45b3-9d66-eb340e293128",
   "metadata": {
    "ExecuteTime": {
     "end_time": "2024-04-30T14:01:43.160746400Z",
     "start_time": "2024-04-30T14:01:43.148418500Z"
    },
    "collapsed": false,
    "jupyter": {
     "outputs_hidden": false
    }
   },
   "outputs": [],
   "source": [
    "def find_team(team_name, teams):\n",
    "    \"\"\"\n",
    "    Helper function that returns the team object based on the String team name out of the list of team objects\n",
    "    Input: String team name, list of of objects of type Team\n",
    "    Output: Corresponding Team object\n",
    "    \"\"\"\n",
    "    for team in teams:\n",
    "        if team.team_name == team_name:\n",
    "            return team"
   ]
  },
  {
   "cell_type": "code",
   "execution_count": 10,
   "id": "577c23ef-933d-4d90-a9c3-73b4f3c85758",
   "metadata": {},
   "outputs": [
    {
     "name": "stdout",
     "output_type": "stream",
     "text": [
      "KD Karthik\n",
      "73.81858000000001\n",
      "435886.39513997216\n",
      "18.191935012723363\n",
      "PJ Sangwan\n",
      "0.105\n",
      "13053.161312596194\n",
      "0.5\n",
      "MM Sharma\n",
      "12.683\n",
      "26688.12086337971\n",
      "3.842551609564243\n",
      "BB Sran\n",
      "7.245525\n",
      "16362.200704592244\n",
      "11.327156876996902\n",
      "S Dhawan\n",
      "48.747949999999996\n",
      "435878.7269719762\n",
      "5.669126579966335\n",
      "M Markande\n",
      "11.25144\n",
      "96177.09444436197\n",
      "-1.3713453622864975\n",
      "JC Archer\n",
      "4.182279\n",
      "97298.41991841953\n",
      "-7.7971788196732295\n",
      "TA Boult\n",
      "2.3293399999999997\n",
      "102900.66382606626\n",
      "9.76948284103022\n",
      "K Khejroliya\n",
      "5.2958\n",
      "9070.726578189515\n",
      "20.41366606240061\n",
      "R Ashwin\n",
      "21.63355\n",
      "67355.31286687106\n",
      "0.8762718579358548\n"
     ]
    }
   ],
   "source": [
    "# Prints each individual player and their three performance metrics\n",
    "for i in range(0,10):\n",
    "    calc_pm_for_player(all_player_list[0][i])"
   ]
  },
  {
   "cell_type": "code",
   "execution_count": 11,
   "id": "322b8bc9-9d02-4bf3-a80c-f611933f21a2",
   "metadata": {
    "ExecuteTime": {
     "end_time": "2024-04-30T14:01:43.160746400Z",
     "start_time": "2024-04-30T14:01:43.148418500Z"
    },
    "collapsed": false,
    "jupyter": {
     "outputs_hidden": false
    }
   },
   "outputs": [],
   "source": [
    "# The following piece of code creates the respective teams and adds all three performance metrics to a team based on  \n",
    "# which players the team has \n",
    "def calc_pms(player_list): #players for a specific year\n",
    "    list_of_team_names = [] # list of team names as strings\n",
    "    team_list = [] # list of teams as objects of type Team\n",
    "    #count = 0\n",
    "    for i in range(len(player_list)): \n",
    "        team_name = player_list[i].team # retrieval of team name per individual player\n",
    "        # Checks if team already exists\n",
    "        if team_name not in list_of_team_names: \n",
    "            # If not a new team is created and the performance metrics are initialized from scratch\n",
    "            team = Team(team_name)\n",
    "            team.players.append(player_list[i])\n",
    "            team.combined_pm1 = player_list[i].pm1\n",
    "            team.combined_pm2 = player_list[i].pm2\n",
    "            team.combined_pm3 = player_list[i].pm3\n",
    "            team_list.append(team)\n",
    "            list_of_team_names.append(team_name)\n",
    "        if team_name in list_of_team_names: \n",
    "            # If it does then the performance metrics are simply summed to the already existing initialized values\n",
    "            team = find_team(team_name, team_list)\n",
    "            team.players.append(player_list[i])\n",
    "            team.combined_pm1 += player_list[i].pm1\n",
    "            team.combined_pm2 += player_list[i].pm2\n",
    "            team.combined_pm3 += player_list[i].pm3\n",
    "    # This is done until the performance metric of each individual player has been added to the correct team\n",
    "    # Now team list contains all teams and the team object contains the performance metrics\n",
    "    return team_list"
   ]
  },
  {
   "cell_type": "code",
   "execution_count": 12,
   "id": "b5a8f570-5222-4458-88d2-b4022da741e4",
   "metadata": {},
   "outputs": [],
   "source": [
    "team_dict = {}\n",
    "for i in range(years):\n",
    "    team_dict[player_data_year_dict[i]] = calc_pms(all_player_list[i]) # appends the team list for a certain year to the dict"
   ]
  },
  {
   "cell_type": "code",
   "execution_count": 13,
   "id": "8892fc8a-1b1f-4680-846c-b615ec391c01",
   "metadata": {},
   "outputs": [],
   "source": [
    "def calc_all_ranks():\n",
    "    rank_df_list = []\n",
    "    for i in range(years):\n",
    "        \n",
    "        sorted_team_list_pm1 = sorted(team_dict[player_data_year_dict[i]], key=lambda x: x.combined_pm1, reverse=True)\n",
    "    \n",
    "        for rank, team in enumerate(sorted_team_list_pm1, start=1):\n",
    "            team.rank_pm1 = rank\n",
    "            \n",
    "        sorted_team_list_pm2 = sorted(team_dict[player_data_year_dict[i]], key=lambda x: x.combined_pm2, reverse=True)\n",
    "    \n",
    "        for rank, team in enumerate(sorted_team_list_pm2, start=1):\n",
    "            team.rank_pm2 = rank\n",
    "            \n",
    "        sorted_team_list_pm3 = sorted(team_dict[player_data_year_dict[i]], key=lambda x: x.combined_pm3, reverse=True)\n",
    "    \n",
    "        for rank, team in enumerate(sorted_team_list_pm3, start=1):\n",
    "            team.rank_pm3 = rank\n",
    "        #now for one year we have the expected rankings for all teams based on their performence metrics\n",
    "        #make this into a df and append it to rank_df_list\n",
    "        \n",
    "        data = {\n",
    "            'team_name': [],\n",
    "            'rank_pm1': [],\n",
    "            'rank_pm2': [],\n",
    "            'rank_pm3': [],\n",
    "            'year': []\n",
    "        }\n",
    "\n",
    "        for team in team_dict[player_data_year_dict[i]]:\n",
    "            data['team_name'].append(team.get_team_name())\n",
    "            data['rank_pm1'].append(team.rank_pm1)\n",
    "            data['rank_pm2'].append(team.rank_pm2)\n",
    "            data['rank_pm3'].append(team.rank_pm3)\n",
    "            data['year'].append(player_data_year_dict[i])\n",
    "        \n",
    "        year_rank_df = pd.DataFrame(data)\n",
    "        \n",
    "        rank_df_list.append(year_rank_df)\n",
    "\n",
    "    \n",
    "    \n",
    "    return rank_df_list\n",
    "\n",
    "final_list = calc_all_ranks()"
   ]
  },
  {
   "cell_type": "code",
   "execution_count": 14,
   "id": "7bb40c18-6f58-42db-b5a1-3e9e17869a5e",
   "metadata": {},
   "outputs": [],
   "source": [
    "#now concatinate all the dfs into 1 and download it as a csv \n",
    "predicted_rankings_df = pd.concat(final_list, ignore_index=True)"
   ]
  },
  {
   "cell_type": "code",
   "execution_count": 15,
   "id": "92bfc673-0559-4e5b-b4f8-73fc92a88246",
   "metadata": {},
   "outputs": [
    {
     "name": "stdout",
     "output_type": "stream",
     "text": [
      "                      team_name  rank_pm1  rank_pm2  rank_pm3  year\n",
      "0          Kolkata Night Riders         1         1         2  2018\n",
      "1                Mumbai Indians         4         6         7  2018\n",
      "2               Kings XI Punjab         3         5         3  2018\n",
      "3            Sunrisers Hyderbad         2         2         5  2018\n",
      "4              Rajasthan Royals         6         4         8  2018\n",
      "5                Delhi Capitals         7         3         4  2018\n",
      "6   Royal Challengers Bangalore         5         7         1  2018\n",
      "7           Chennai Super Kings         8         8         6  2018\n",
      "8          Kolkata Night Riders         1         1         1  2019\n",
      "9           Chennai Super Kings         2         2         2  2019\n",
      "10               Mumbai Indians         3         3         3  2019\n",
      "11               Delhi Capitals         4         4         4  2019\n",
      "12              Kings XI Punjab         5         5         5  2019\n",
      "13             Rajasthan Royals         6         6         6  2019\n",
      "14  Royal Challengers Bangalore         7         7         7  2019\n",
      "15          Sunrisers Hyderabad         8         8         8  2019\n",
      "16             Kings XI Punjab          9         9         9  2019\n",
      "17          Chennai Super Kings         1         1         1  2020\n",
      "18               Delhi Capitals         2         2         2  2020\n",
      "19        Kolkata Knight Riders         3         3         3  2020\n",
      "20               Mumbai Indians         4         4         4  2020\n",
      "21                 Punjab Kings         5         5         5  2020\n",
      "22             Rajasthan Royals         6         6         6  2020\n",
      "23  Royal Challengers Bangalore         7         7         7  2020\n",
      "24          Sunrisers Hyderabad         8         8         8  2020\n",
      "25          Sunrisers Hyderabad         1         1         1  2021\n",
      "26  Royal Challengers Bangalore         2         2         2  2021\n",
      "27             Rajasthan Royals         3         3         3  2021\n",
      "28                 Punjab Kings         4         4         4  2021\n",
      "29               Mumbai Indians         5         5         5  2021\n",
      "30        Kolkata Knight Riders         6         6         6  2021\n",
      "31               Delhi Capitals         7         7         7  2021\n",
      "32          Chennai Super Kings         8         8         8  2021\n",
      "33          Chennai Super Kings         1         1         1  2022\n",
      "34               Delhi Capitals         2         2         2  2022\n",
      "35               Gujarat Titans         3         3         3  2022\n",
      "36        Kolkate Knight Riders         4         4         4  2022\n",
      "37         Lucknow Super Giants         5         5         5  2022\n",
      "38               Mumbai Indians         6         6         6  2022\n",
      "39                 Punjab Kings         7         7         7  2022\n",
      "40             Rajasthan Royals         8         8         8  2022\n",
      "41  Royal Challengers Bangalore         9         9         9  2022\n",
      "42          Sunrisers Hyderabad        10        10        10  2022\n",
      "43          Chennai Super Kings         1         1         1  2023\n",
      "44               Delhi Capitals         2         2         2  2023\n",
      "45               Gujarat Titans         3         3         3  2023\n",
      "46        Kolkata Knight Riders         4         4         4  2023\n",
      "47         Lucknow Super Giants         5         5         5  2023\n",
      "48               Mumbai Indians         6         6         6  2023\n",
      "49                 Punjab Kings         7         7         7  2023\n",
      "50             Rajasthan Royals         8         8         8  2023\n",
      "51  Royal Challengers Bangalore         9         9         9  2023\n",
      "52          Sunrisers Hyderabad        10        10        10  2023\n"
     ]
    }
   ],
   "source": [
    "print(predicted_rankings_df)"
   ]
  },
  {
   "cell_type": "code",
   "execution_count": 16,
   "id": "e983343f-a14e-4df5-91bf-d56e84a8c792",
   "metadata": {},
   "outputs": [],
   "source": [
    "import os\n",
    "directory = '/Users/kaspervanderhorst/Desktop/performance metric'\n",
    "filename = 'predicted_rankings.csv'\n",
    "file_path = os.path.join(directory, filename)\n",
    "predicted_rankings_df.to_csv(file_path)"
   ]
  },
  {
   "cell_type": "code",
   "execution_count": null,
   "id": "cf3739f1-aa56-46c3-b7da-6782e12c7e3f",
   "metadata": {},
   "outputs": [],
   "source": []
  }
 ],
 "metadata": {
  "kernelspec": {
   "display_name": "Python 3 (ipykernel)",
   "language": "python",
   "name": "python3"
  },
  "language_info": {
   "codemirror_mode": {
    "name": "ipython",
    "version": 3
   },
   "file_extension": ".py",
   "mimetype": "text/x-python",
   "name": "python",
   "nbconvert_exporter": "python",
   "pygments_lexer": "ipython3",
   "version": "3.11.8"
  }
 },
 "nbformat": 4,
 "nbformat_minor": 5
}
